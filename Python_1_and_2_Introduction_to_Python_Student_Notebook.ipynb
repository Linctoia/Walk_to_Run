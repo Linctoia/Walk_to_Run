{
  "nbformat": 4,
  "nbformat_minor": 0,
  "metadata": {
    "colab": {
      "name": "Python 1 and 2 - Introduction to Python - Student Notebook",
      "version": "0.3.2",
      "provenance": []
    },
    "kernelspec": {
      "name": "python3",
      "display_name": "Python 3"
    }
  },
  "cells": [
    {
      "cell_type": "markdown",
      "metadata": {
        "id": "view-in-github",
        "colab_type": "text"
      },
      "source": [
        "[View in Colaboratory](https://colab.research.google.com/github/Linctoia/Walk_to_Run/blob/master/Python_1_and_2_Introduction_to_Python_Student_Notebook.ipynb)"
      ]
    },
    {
      "metadata": {
        "id": "zjsQVjU6PVLj",
        "colab_type": "text"
      },
      "cell_type": "markdown",
      "source": [
        "# Python I - Introduction to Python - Data Types and Syntax\n",
        "\n",
        "## Learning Objectives\n",
        "\n",
        "*Pre-Work*\n",
        "* [Get up-and-running on Jupyter: Guide for Local Installation](https://docs.google.com/document/d/1crMH-3GIxWuJls2HxkLky1YQfyD7FryUGRRhyFJ7bQ8/edit?usp=sharing)\n",
        "* [Up and Running on Google CoLab](https://colab.research.google.com/notebooks/welcome.ipynb#recent=true)\n",
        "\n",
        "*In-Seminar*\n",
        "\n",
        "* Work with Python in Google CoLab and local instances of Jupyter\n",
        "* Assign and manipulate values in memory\n",
        "* Identify Python data types stored in memory\n",
        "* Use if/elif/else logic to produce dynamic output\n",
        "* Troubleshoot in Python\n",
        "* Introduction to advanced data types: lists, Series, and Dataframes\n",
        "* Introduction to libraries, functions, and data manipulation in Python\n",
        "\n",
        "## *Videos - Python I*\n",
        "* [ Introduction to Jupyter with Google Colab](https://www.useloom.com/share/1936e5f374734b2d98828cd9d5bcf631)\n",
        "* [ Code, Comments, and Data Types ](https://www.useloom.com/share/d876d883b0204ab88343341836194257)\n",
        "* [ Working with Variables ](https://www.useloom.com/share/cfdadb6ae49f4913a4f943bc2d4a2220)\n",
        "* [ If, Elif, and Else ](https://www.useloom.com/share/240149f8e03a4a5fade3f7449aefa5d7)\n",
        "* [Collecting Input, Troubleshooting Error Messages, and Introduction to Calculator Assignment](https://www.useloom.com/share/22381e2ac0504585bd1af41b7bffc2c8)\n",
        "\n",
        "## *Videos - Python II*\n",
        "* [Advanced Data Types: Strings and Slicing](https://www.useloom.com/share/5b7c934fe1194ace8fee89cfffd30f82)\n",
        "* [Advanced Data Types: Lists and Functions/Methods](https://www.useloom.com/share/9ea8f27de2a048cab2a09f9c6639f4aa)\n",
        "* [Importing Libraries, Using NumPy Library](https://www.useloom.com/share/163ee5bc28d847d8ab07c544210b3ea8)\n",
        "* [Pandas Library: Series and DataFrames](https://www.useloom.com/share/d8b6d50ac65a45adad837c241fc9802d)\n",
        "* [Analyzing Data Analyst Salary Data](https://www.useloom.com/share/ae736f1bd67d429799268953719ab87b)"
      ]
    },
    {
      "metadata": {
        "id": "tnFPKkdpaFdo",
        "colab_type": "text"
      },
      "cell_type": "markdown",
      "source": [
        "## Python Notebooks\n",
        "\n",
        "Python is a high-level programming language. \n",
        "\n",
        "Welcome to your Python Notebook!\n",
        "\n",
        "Google CoLab is a tool that provides a lot of functionality and improves upon the command-line python interpreter. As a web-app, CoLab runs in the browser, which means that everyone has the same interface. It also color-codes error messages and your python syntax as you write, which makes trouble-shooting a lot easier. \n",
        "\n",
        "You can find more information about CoLab <a href=\"https://www.kdnuggets.com/2018/02/google-colab-free-gpu-tutorial-tensorflow-keras-pytorch.html\">here</a>.\n",
        "\n",
        "Cells are the units of functionality within the notebook. Each cell can contain different content.  Today, we'll use both 'code' and 'text' cells. Code cells contain code that can be executed by the press of a button. Text cells contain text that is not interpreted as script. Text cells respond to 'markdown' syntax, which is a way to embed text style cues. This is an excellent way to document your code! There are <a href=\"https://github.com/adam-p/markdown-here/wiki/Markdown-Cheatsheet\">cheat sheets</a> that can be found elsewhere.\n",
        "\n",
        "Other examples of markdown features.\n",
        "\n",
        "*Emphasized text*\n",
        "\n",
        "* Bulleted list item 1\n",
        "* Bulleted list item 2\n",
        "* Bulleted list item 3\n",
        "\n",
        "\n",
        "\n"
      ]
    },
    {
      "metadata": {
        "id": "aISF2gGKIEfB",
        "colab_type": "text"
      },
      "cell_type": "markdown",
      "source": [
        "## Syntax: Code and Comments"
      ]
    },
    {
      "metadata": {
        "id": "ddltSMAkSDjA",
        "colab_type": "code",
        "colab": {}
      },
      "cell_type": "code",
      "source": [
        "# Example: Print your first greeting in Python. \n",
        "\n",
        "print (\"Hello, World!\")\n",
        "\n",
        "# Example: Using inline comments to turn code off and on and take notes.\n",
        "\n",
        "# print (\"Turn this code off.\")\n",
        "\n"
      ],
      "execution_count": 0,
      "outputs": []
    },
    {
      "metadata": {
        "id": "zkpJvwoKHdrh",
        "colab_type": "code",
        "colab": {}
      },
      "cell_type": "code",
      "source": [
        "# Exercise:\n",
        "\n",
        "# 1. Comment out the code. Run it again.\n",
        "# 2. Add an inline comment above the code, describing the functionality.\n",
        "\n"
      ],
      "execution_count": 0,
      "outputs": []
    },
    {
      "metadata": {
        "id": "1R-xuwhhTAOE",
        "colab_type": "code",
        "colab": {}
      },
      "cell_type": "code",
      "source": [
        "# Example: Anatomy of a function in Python.\n",
        "\n",
        "print (3)\n",
        "\n",
        "# Example: Evaluation of simple statements in Python.\n",
        "# These values are output, but they don't remain in memory. \n",
        "\n",
        "print (2 + 3)\n",
        "\n"
      ],
      "execution_count": 0,
      "outputs": []
    },
    {
      "metadata": {
        "id": "3NMWrU8xHfay",
        "colab_type": "code",
        "colab": {}
      },
      "cell_type": "code",
      "source": [
        "# Exercise: Print out the results of 2 divided by 3. \n"
      ],
      "execution_count": 0,
      "outputs": []
    },
    {
      "metadata": {
        "id": "z0b_cNQiHg1J",
        "colab_type": "code",
        "colab": {}
      },
      "cell_type": "code",
      "source": [
        "# Exercise: Print out the data type of a number 2.00.\n",
        "\n"
      ],
      "execution_count": 0,
      "outputs": []
    },
    {
      "metadata": {
        "id": "wsbQf8hZILLK",
        "colab_type": "text"
      },
      "cell_type": "markdown",
      "source": [
        "## Syntax: Variables"
      ]
    },
    {
      "metadata": {
        "id": "hnl1wKt8MP-d",
        "colab_type": "code",
        "colab": {}
      },
      "cell_type": "code",
      "source": [
        "# Example: Storing variables in memory.\n",
        "\n",
        "sleep = 6 + 2 + 2\n",
        "print (\"hours of sleep\", sleep)"
      ],
      "execution_count": 0,
      "outputs": []
    },
    {
      "metadata": {
        "id": "AvMceVisHh5q",
        "colab_type": "code",
        "colab": {}
      },
      "cell_type": "code",
      "source": [
        "# Exercise:\n",
        "# 1. Create a new variable called height and assign an integer value with height in inches.\n",
        "# 2. Create a new variable called age and assign an integer value with age in years.\n",
        "# 3. Print out your results, calling the variables 'height', 'sleep', and 'age'.\n",
        "\n"
      ],
      "execution_count": 0,
      "outputs": []
    },
    {
      "metadata": {
        "id": "R0-6U4u_vIah",
        "colab_type": "code",
        "colab": {}
      },
      "cell_type": "code",
      "source": [
        "# Example: Re-assigning variables in memory.\n",
        "\n",
        "sleep = 8 \n",
        "print ('Hours of sleep: ', sleep)\n",
        "\n",
        "calories = 2300\n",
        "print ('Daily calories: ', calories)\n"
      ],
      "execution_count": 0,
      "outputs": []
    },
    {
      "metadata": {
        "id": "LdWuzkNzHjjx",
        "colab_type": "code",
        "colab": {}
      },
      "cell_type": "code",
      "source": [
        "# Exercise: Multiply daily calories by 2 and print out the results.\n",
        "\n"
      ],
      "execution_count": 0,
      "outputs": []
    },
    {
      "metadata": {
        "id": "B9S-EBDiwTpG",
        "colab_type": "code",
        "colab": {}
      },
      "cell_type": "code",
      "source": [
        ""
      ],
      "execution_count": 0,
      "outputs": []
    },
    {
      "metadata": {
        "id": "PCK3FYTTRfYw",
        "colab_type": "code",
        "colab": {}
      },
      "cell_type": "code",
      "source": [
        "# Exercise: Calculate BMI from the weight variable.\n",
        "# 1. Create a new variable called weight.\n",
        "# 2. Create a BMI variable, calculated from the weight variable. \n",
        "# 3. Print out the results.\n",
        "\n",
        "# Note: Calculate BMI by dividing weight in pounds (lb) by height \n",
        "# in inches (in) squared and multiplying by a conversion factor of 703.\n",
        "\n",
        "\n",
        "\n",
        "\n"
      ],
      "execution_count": 0,
      "outputs": []
    },
    {
      "metadata": {
        "id": "tFzAPh4pLMkj",
        "colab_type": "code",
        "colab": {}
      },
      "cell_type": "code",
      "source": [
        "# Example: Storing string data.\n",
        "\n",
        "name = 'Angelica Houston'\n",
        "sex = 'female'\n",
        "address = '394 Main Street, San Francisco, CA'\n",
        "age = 30\n",
        "\n",
        "print (name + '\\n\\t' + address + str(age))\n",
        "\n",
        "\n"
      ],
      "execution_count": 0,
      "outputs": []
    },
    {
      "metadata": {
        "id": "y6kiymdjHmG1",
        "colab_type": "code",
        "colab": {}
      },
      "cell_type": "code",
      "source": [
        "# Exercise:\n",
        "# Print out all the health information stored above, including \n",
        "#   name, address, hours sleep, height, weight and age. \n",
        "# Add some whitespace to clean up the name/address output.\n",
        "# Examples of whitespace: \" \", or \\t for tab or \\n for newline.\n",
        "\n",
        "# Hint: the print() function can get confused when dealing with different types\n",
        "#  of data. To keep the print() function happy, convert the numerical data\n",
        "# (i.e., int or floats) to string by casting to a new data type. For instance,\n",
        "# str(3) is the same thing as '3'.\n",
        "\n"
      ],
      "execution_count": 0,
      "outputs": []
    },
    {
      "metadata": {
        "id": "ZNVCfFF3IWt4",
        "colab_type": "text"
      },
      "cell_type": "markdown",
      "source": [
        "## Syntax: Evaluations and Conditional Logic Statements"
      ]
    },
    {
      "metadata": {
        "id": "BeWVAUatG2fs",
        "colab_type": "code",
        "colab": {}
      },
      "cell_type": "code",
      "source": [
        "# Example: How to evaluate data?\n",
        "\n",
        "# Statements are bits of Python which have a value which is evaluated.\n",
        "\n"
      ],
      "execution_count": 0,
      "outputs": []
    },
    {
      "metadata": {
        "id": "VG_37jvEHoFo",
        "colab_type": "code",
        "colab": {}
      },
      "cell_type": "code",
      "source": [
        "# Exercise:\n",
        "# 1. Record a new variable blood_pressure with a value of 120.\n",
        "# 2. Double the blood_pressure value, then subtract 200. \n",
        "# 3. Use conditional evaluation to return whether this value is less than 10.\n",
        "\n"
      ],
      "execution_count": 0,
      "outputs": []
    },
    {
      "metadata": {
        "id": "tRkZuOKuqZjR",
        "colab_type": "code",
        "colab": {}
      },
      "cell_type": "code",
      "source": [
        "# Example: Print out health advice about sleep.\n",
        "\n",
        "sleep = 800\n",
        "\n",
        "if ( sleep < 6 ):\n",
        "  print (\"You need more sleep!\")\n",
        "elif ( sleep > 10):\n",
        "  print (\"You are getting too much sleep. See your doctor.\")\n",
        "else:\n",
        "  print (\"You're getting enough sleep. Awesome!\")\n"
      ],
      "execution_count": 0,
      "outputs": []
    },
    {
      "metadata": {
        "id": "K8VBQ76YHpxH",
        "colab_type": "code",
        "colab": {}
      },
      "cell_type": "code",
      "source": [
        "# Exercise: Give some more nuanced feedback about sleep. \n",
        "# Use if/elif/else statement to evaluate whether or not someone\n",
        "# has the following amount of sleep, then print out the corresponding\n",
        "# statements:\n",
        "\n",
        "#  < 6 hours: \"not enough sleep!\"\n",
        "#  6 to 8 hours: \"good enough sleep\"\n",
        "#  9: \"enough sleep!\n",
        "\n",
        "equals operator (=)\n",
        "\n"
      ],
      "execution_count": 0,
      "outputs": []
    },
    {
      "metadata": {
        "id": "1JQPPrFYqUac",
        "colab_type": "code",
        "colab": {}
      },
      "cell_type": "code",
      "source": [
        "# Exercise: Use if/elif/else conditional statements to give health feedback based\n",
        "#  upon daily calorie intake.\n",
        "\n"
      ],
      "execution_count": 0,
      "outputs": []
    },
    {
      "metadata": {
        "id": "qBOWqaAlIxIN",
        "colab_type": "code",
        "colab": {}
      },
      "cell_type": "code",
      "source": [
        "# Example: Use raw_input() to gather input from the user.\n",
        "\n",
        "name = raw_input(\"What is your name? \")\n",
        "age = int(raw_input('What is your age?'))\n",
        "\n",
        "print (\"Your name is \" + name)\n",
        "print (\"Your age is \" + str(age))\n",
        "age = str(age)\n",
        "print (type(name), type(age))"
      ],
      "execution_count": 0,
      "outputs": []
    },
    {
      "metadata": {
        "id": "jxh9Z43kJ7pC",
        "colab_type": "code",
        "colab": {}
      },
      "cell_type": "code",
      "source": [
        "# Exercise: \n",
        "# If the user is less than 18 years old, remind them to brush their teeth.\n",
        "# If the user is greater than 50, remind them to exercise 30 minutes a day.\n",
        "# Otherwise, remind the user to get enough sleep.\n",
        "\n",
        "# Hint: What data type does the raw_input() function return (output)?\n",
        "\n"
      ],
      "execution_count": 0,
      "outputs": []
    },
    {
      "metadata": {
        "id": "a-Wl_frJIjvd",
        "colab_type": "text"
      },
      "cell_type": "markdown",
      "source": [
        "## Assignment: Write a Calculator"
      ]
    },
    {
      "metadata": {
        "id": "9f4sDCtQLeBp",
        "colab_type": "text"
      },
      "cell_type": "markdown",
      "source": [
        "*Requirements*:\n",
        "\n",
        "* Prompt the user to input the operator (+-*/) they'd like to use and store that input in a variable called operator\n",
        "* Take the user’s first number, convert it to an integer and store it in a variable called number_1\n",
        "* Take the user’s second number, convert it to an integer and store it in a variable called number_2\n",
        "* Create conditional logic (if statements) to print the result of the user's operator and two number inputs to the console.\n",
        "* Helpful hint to develop your script:\n",
        "    * Print out your variables at each step, including data type, to get a clear idea of what is happening step-by-step with your data.\n",
        "    * Use unit-tests to test that your code works. Try 2 and 3 to see if add, subtraction, multiplication, and division work.\n",
        "* Use best practices in your final code:\n",
        "    * Inline comments to explain the code of each feature\n",
        "    * Usable instructions and error messages\n",
        "    \n",
        "    \n",
        "* *Stretch:* Include a fifth operator of your choice. Use the <a href=\"\">documentation</a> to explore different operators. \n",
        "  Sample Input: Enter operator: ^\n",
        "         Enter your first number: 2\n",
        "         Enter your second number: 3\n",
        "         Result: 2 ^ 3 = 8"
      ]
    },
    {
      "metadata": {
        "id": "Yh9Hty3SMowm",
        "colab_type": "code",
        "colab": {
          "base_uri": "https://localhost:8080/",
          "height": 122
        },
        "outputId": "1289e837-4409-4ef6-9bce-7f83f739dc5e"
      },
      "cell_type": "code",
      "source": [
        "operator = input(\"What operator do you want to use? (+-*/) \")\n",
        "number_1 = int(input(\"Enter a number: \"))\n",
        "print(number_1)\n",
        "number_2 = int(input(\"Enter a second number: \"))\n",
        "print(number_2)\n",
        "\n",
        "if operator == \"+\":\n",
        "  result = number_1 + number_2\n",
        "  print(\"The result is equal to {}\".format(result))\n",
        "elif operator == \"-\":\n",
        "  result = number_1 - number_2\n",
        "  print(\"The result is equal to {}\".format(result))\n",
        "elif operator == \"*\":\n",
        "  result = number_1 * number_2\n",
        "  print(\"The result is equal to {}\".format(result))\n",
        "elif operator == \"/\":\n",
        "  result = number_1 / number_2\n",
        "  print(\"The result is equal to {}\".format(result))\n",
        "else:\n",
        "  print(\"You done typed something in wrong ya dingus\")"
      ],
      "execution_count": 26,
      "outputs": [
        {
          "output_type": "stream",
          "text": [
            "What operator do you want to use? (+-*/) sup\n",
            "Enter a number: 2\n",
            "2\n",
            "Enter a second number: 3\n",
            "3\n",
            "You done typed something in wrong ya dingus\n"
          ],
          "name": "stdout"
        }
      ]
    },
    {
      "metadata": {
        "id": "fk3X-Ji-THkm",
        "colab_type": "code",
        "colab": {}
      },
      "cell_type": "code",
      "source": [
        ""
      ],
      "execution_count": 0,
      "outputs": []
    },
    {
      "metadata": {
        "id": "YL59zVM7OLtG",
        "colab_type": "text"
      },
      "cell_type": "markdown",
      "source": [
        "# Python II - Introduction to Python - Advanced Data Types and Operations"
      ]
    },
    {
      "metadata": {
        "id": "ncpAAyF0S0Sa",
        "colab_type": "text"
      },
      "cell_type": "markdown",
      "source": [
        "## Sequences: Strings and Lists "
      ]
    },
    {
      "metadata": {
        "id": "WNCw2al6S9YX",
        "colab_type": "code",
        "colab": {}
      },
      "cell_type": "code",
      "source": [
        "# Example: Store a sequence of characters in a variable.\n",
        "\n",
        "statement = \"This is a sentence. To Python, this is simply a consecutive sequence of word-characters.\"\n",
        "\n",
        "# When we store a number, there is a single value. Advanced data types, such\n",
        "# as strings and lists, contain multiple values to be retrieved. These \n",
        "# values have an intrinsic order, which starts with zero, and extends to the end\n",
        "# of the sequence. We can use slicing to retrieve values from the sequence.\n",
        "\n",
        "# Example: string_name[n] ~ returns the nth character in the string.\n",
        "\n",
        "print ('Print out the first letter of the address', address[0])\n"
      ],
      "execution_count": 0,
      "outputs": []
    },
    {
      "metadata": {
        "id": "ekT84eUcUOYn",
        "colab_type": "code",
        "colab": {}
      },
      "cell_type": "code",
      "source": [
        "# Example: string_name[n:m] ~ returns the nth through the mth characters in the string.\n",
        "\n",
        "print ('Print out the third through the seventh character of the address', address[2:7])\n",
        "\n",
        "# \"394 Main Street, San Francisco, CA\"\n",
        "#  0123456789"
      ],
      "execution_count": 0,
      "outputs": []
    },
    {
      "metadata": {
        "id": "2GlQMxreUQbn",
        "colab_type": "code",
        "colab": {}
      },
      "cell_type": "code",
      "source": [
        "# Exercise: using slicing, print out the first word of the string.\n",
        "\n",
        "words = \"Monty Python\"\n"
      ],
      "execution_count": 0,
      "outputs": []
    },
    {
      "metadata": {
        "id": "C78vTHZYUdhh",
        "colab_type": "code",
        "colab": {}
      },
      "cell_type": "code",
      "source": [
        "# Example: string_name[-n] ~ returns the nth character from the end of the string.\n",
        "# Hint: -1 indicates the end of the string.\n",
        "\n"
      ],
      "execution_count": 0,
      "outputs": []
    },
    {
      "metadata": {
        "id": "6sobpyozXEWB",
        "colab_type": "code",
        "colab": {}
      },
      "cell_type": "code",
      "source": [
        "# Exercise: using slicing relative to the end of the string, print out the \n",
        "# second word of the string.\n",
        "\n",
        "\n",
        "\n"
      ],
      "execution_count": 0,
      "outputs": []
    },
    {
      "metadata": {
        "id": "h8Sv9NXseFDT",
        "colab_type": "code",
        "colab": {}
      },
      "cell_type": "code",
      "source": [
        "# Example: add two distinct strings together by using the concatenation operator.\n",
        "\n",
        "string_1 = \"It's a beautiful day!\"\n",
        "string_2 = \" In this neighborhood, anyway.\"\n",
        "new_string = string_1 + string_2\n",
        "\n",
        "print (new_string)"
      ],
      "execution_count": 0,
      "outputs": []
    },
    {
      "metadata": {
        "id": "IoUuIVj5eWU2",
        "colab_type": "code",
        "colab": {}
      },
      "cell_type": "code",
      "source": [
        "# Exercise:\n",
        "# 1. Collect input from the user: person's name, verb, and a month.\n",
        "# 2. Print out a mad lib based on the name, verb, and month.\n",
        "\n",
        "\n"
      ],
      "execution_count": 0,
      "outputs": []
    },
    {
      "metadata": {
        "id": "6N0xLa10dIXw",
        "colab_type": "code",
        "colab": {}
      },
      "cell_type": "code",
      "source": [
        "# Exercise:\n",
        "# 1. Store a word in the variable word.\n",
        "# 2. Print out the word in pig latin. Take the first letter, add it to the end, then add +ay to the end.\n",
        "# Example:\n",
        "#   Input: please\n",
        "#   Output: leasepay\n",
        "#   Input: name\n",
        "#   Output: amenay\n",
        "\n",
        "# Hint: you can convert all letters of a string to lowercase:\n",
        "\n",
        "word = \"NAME\"\n",
        "lowercase = word.lower()\n",
        "print (lowercase)"
      ],
      "execution_count": 0,
      "outputs": []
    },
    {
      "metadata": {
        "id": "wvpl-xTIhW4u",
        "colab_type": "text"
      },
      "cell_type": "markdown",
      "source": [
        "### Data Structures: Lists\n",
        "\n",
        "To start, we want to store multiple values in a single place in memory for easy reference. One way to do this is with a *list*. A list is similar to an Excel array, which can contain multiple values separated by commas. In python, a list can contain different types of values. It is a *mutable* data type, which means that it can also be updated, re-arranged, and re-assigned. The immutable (not changeable) cousin of the list is known as a *tuple*. \n",
        "\n",
        "A list can be assigned to a variable in the same way as an integer, string, or other data type, except the values in a list are enclosed in square brackets. For example,\n",
        "   \n",
        "> `a_list = [ 'a', 'b', 'c', 'd', 'e' ]` \n",
        "\n",
        "Awesome! We have all of our data in one place. Now, how do we get it out? \n",
        "\n",
        "Data types that contain multiple values need a consistent way to access those data. Similar to the concept of an index in Excel, the idea behind indexing in python is to retrieve specific values in a larger data type. For a list, the simplest way to pull a value out relies on its index number. \n",
        "\n",
        "Lists are zero-indexed. That is, the first value in the index is referred to by the '0' index number. To get the third value, we need to refer to index number 2.\n",
        "\n",
        "> `a_list = [ 'a', 'b', 'c', 'd', 'e' ]`\n",
        "\n",
        "> `print 'List item index number two: ' + a_list[2]`\n",
        "\n",
        "> `List item index number two: c`\n",
        "\n",
        "To get a group of values out of a list, you can use list *slicing*. You can find more information about advanced slicing <a href=\"http://pythoncentral.io/how-to-slice-listsarrays-and-tuples-in-python\">here</a>.\n",
        "\n",
        "To us, a string may appear to be one value. However, a string actually contains a sequence of single characters. These single characters can be sliced like a list. Let's say that we want to take the third letter of the following string...\n",
        "\n",
        "> `a_string = 'Hello, World!'`\n",
        "\n",
        "> `print 'String character index number two:' + a_string[2]`\n",
        "\n",
        "> `String character index number two: l`\n",
        "\n",
        "Slicing requires a start point and an endpoint. The points are index numbers within the list. If we have a list of five items, and we want index key 2 to 4, we could do something like this:\n",
        "> `a_list[2:4]`\n"
      ]
    },
    {
      "metadata": {
        "id": "pxY4XzT4XVC1",
        "colab_type": "code",
        "colab": {}
      },
      "cell_type": "code",
      "source": [
        "# Example: List definitions\n",
        "\n",
        "names = [ \"Angie\", \"Nicole\", \"David\", \"Keri\", \"Angela\", \"Mike\", \"Adam\", \"Norman\" ]\n",
        "\n",
        "# Python understands that a sequence of characters enclosed by single or double\n",
        "# quotes indicates a string. A string is limited to containing word characters.\n",
        "# Once created, it's difficult to modify the values of the string. For good reason! \n",
        "# The order of the characters conveys meaning (characters form words, but only\n",
        "# when in a particular order). \n",
        "\n",
        "# Another type of sequential data type, the list, is designed to contain\n",
        "# different data types (not limited to characters). These can be ordered, \n",
        "# reordered, and modified more easily than a string. \n",
        "\n"
      ],
      "execution_count": 0,
      "outputs": []
    },
    {
      "metadata": {
        "id": "VT7C2oy3amX1",
        "colab_type": "code",
        "colab": {}
      },
      "cell_type": "code",
      "source": [
        "# Exercise: Print out the 5th name (hint: list indexing begins with zero)\n",
        "\n"
      ],
      "execution_count": 0,
      "outputs": []
    },
    {
      "metadata": {
        "id": "4CXAv1fflzsz",
        "colab_type": "text"
      },
      "cell_type": "markdown",
      "source": [
        "## Syntax: Functions \n",
        "\n",
        "Functions are blocks of code that you can use again and again. By writing the code for each task in one function, your code will be better organized and more easily managed. Functions come in a few varieties, including user-defined and built-in. We have used built-in functions to do things like `print` and to find the length or number of items contained in a list, `len([ 1, 2, 3])`. \n",
        "\n",
        "In both cases, the function includes a command followed by additional information. These pieces of additional information are called the *arguments*. The arguments provided for the  `print` function are usually a series of strings or additional data that we would like printed out.  For the `len()` function, we have provided a list for it to process as the argument. If you do not provided the necessary argument for the function, then the function results in an error.\n",
        "\n",
        "For example, the `len([1, 2, 3])` contains the list containing elements 1, 2, 3 as the argument. It *returns* a value of '3', corresponding to the three numbers in the list.\n",
        "\n",
        "`Print` and `len` are examples of *built-in functions*. These come pre-installed with Python as part of the *standard library*. A *library* consists of a group of tools installed together, usually curated In other words, all versions of python come with these functions as part of the normal installation process. "
      ]
    },
    {
      "metadata": {
        "id": "YHJ8zWdranfK",
        "colab_type": "code",
        "colab": {}
      },
      "cell_type": "code",
      "source": [
        "# Example: Add another instructor's name.\n",
        "\n",
        "# Example: Use the len() function to confirm the name was added.\n",
        "\n",
        "names = [ \"Angie\", \"Nicole\", \"David\", \"Keri\", \"Angela\", \"Mike\", \"Adam\", \"Norman\" ]\n",
        "names.append(\"Lauren\")\n",
        "print (names)\n",
        "\n",
        "print (len(names))"
      ],
      "execution_count": 0,
      "outputs": []
    },
    {
      "metadata": {
        "id": "Mz6-Y4BTcYEd",
        "colab_type": "code",
        "colab": {}
      },
      "cell_type": "code",
      "source": [
        "# Exercise:\n",
        "# 1. Store a list of numbers in variable 'numbers'.\n",
        "# 2. Calculate the average using the sum() and len() functions.\n",
        "\n",
        "\n"
      ],
      "execution_count": 0,
      "outputs": []
    },
    {
      "metadata": {
        "id": "9mJDybtnc0wi",
        "colab_type": "code",
        "colab": {}
      },
      "cell_type": "code",
      "source": [
        "# Exercise:\n",
        "# Write conditional logic to evaluate whether or not a list is empty or not.\n",
        "# If it's empty, print: \"This is an empty list.\"\n",
        "# Otherwise, print the length of the list.\n",
        "\n",
        "\n"
      ],
      "execution_count": 0,
      "outputs": []
    },
    {
      "metadata": {
        "id": "uEOQqD0bc9iF",
        "colab_type": "code",
        "colab": {}
      },
      "cell_type": "code",
      "source": [
        "# Exercise: Write advanced mad libs. Write some code to randomly generate\n",
        "# cominations of mad libs. \n",
        "\n",
        "import random\n",
        "\n",
        "names = ['Angie', 'Nicole', 'David', 'Keri', 'Angela', 'Mike', 'Adam', 'Norman', 'Lauren']\n",
        "verbs = [ 'enter some verbs here' ]\n",
        "months = [ 'enter some months here' ]\n",
        "animals = [ 'enter some dangerous animals here' ]\n",
        "\n",
        "print ('Random noun: ' + random.choice(names))\n"
      ],
      "execution_count": 0,
      "outputs": []
    },
    {
      "metadata": {
        "id": "n2ssYjl0gPIt",
        "colab_type": "code",
        "colab": {}
      },
      "cell_type": "code",
      "source": [
        "# Exercise: Write a random password generator, which selects two random words\n",
        "# from a list. \n",
        "\n"
      ],
      "execution_count": 0,
      "outputs": []
    },
    {
      "metadata": {
        "id": "u0ppy5UIhChM",
        "colab_type": "code",
        "colab": {}
      },
      "cell_type": "code",
      "source": [
        ""
      ],
      "execution_count": 0,
      "outputs": []
    },
    {
      "metadata": {
        "id": "Dtkc0dfqk7iI",
        "colab_type": "text"
      },
      "cell_type": "markdown",
      "source": [
        "## Libraries and Import\n",
        "\n",
        "The `import` statement allows us to bring specific libraries into memory for Python to use. While these libraries may be installed in long term memory (on your hard drive), they are not necessarily accessible in short term memory for Python to retrieve. \n",
        "\n",
        "One example of an important library for numberical operations is `NumPy`. This library was built, not to celebrate cuddly bears, but for excellence in data manipulation. \n",
        "\n",
        "To refer to functions from a library, or *call* a function from that library, the syntax requires both the name of the imported library and the function. For example, the following code will print the average (mean) of a set of numbers:\n",
        "\n",
        "> `import numpy`\n",
        "\n",
        "> `numbers = [ 1, 2, 3, 4, 5 ]`\n",
        "\n",
        "> `print 'Mean of the set is ' + str(numpy.mean(numbers))`\n",
        "\n",
        "Python supports a way to abbreviate the library name by aliasing with the `as` keyword in the the import statement. The same code below can also be written:\n",
        "\n",
        "> `import numpy as np`\n",
        "\n",
        "> `numbers = [ 1, 2, 3, 4, 5 ]`\n",
        "\n",
        "> `print 'Mean of the set is ' + str(np.mean(numbers))`\n"
      ]
    },
    {
      "metadata": {
        "id": "icSwPW1PnXk6",
        "colab_type": "code",
        "colab": {}
      },
      "cell_type": "code",
      "source": [
        "import numpy as np\n",
        "\n",
        "numbers = [ 1, 2, 3, 4, 500 ]\n",
        "\n",
        "print ('Median of the set is ' + str(np.median(numbers)))\n"
      ],
      "execution_count": 0,
      "outputs": []
    },
    {
      "metadata": {
        "id": "MmIHES78mS0m",
        "colab_type": "code",
        "colab": {}
      },
      "cell_type": "code",
      "source": [
        "# Exercise:\n",
        "# Use numpy to print out the descriptive statistics of a list of numbers, including:\n",
        "# mean, median, max, min, range, and standard deviation.\n",
        "# Use the test list to write your code, then examine the salaries data. \n",
        "# Do those data make sense? FIX IT.\n",
        "\n",
        "\n",
        "test = [ 1, 2, 3, 4, 5, 6, 7, 8, 9, 10 ]\n",
        "salaries = [ 69686.0, 82878.0, 77880.0, 77485.0, 80759.0, 72786.0, 75571.0, 70335.0, 85397.0, 69459.0, 89523.0, 78793.0, 70442.0, 74371.0, 77156.0, 66684.0, 85132.0, 76725.0, 69428.0, 74112.0, 73782.0, 84314.0, 67411.0, 70474.0, 90326.0, 82530.0, 82571.0, 77894.0, 78238.0, 79540.0, 77743.0, 82194.0, 76006.0, 83241.0, 80712.0, 75727.0, 80109.0, 75651.0, 75435.0, 79380.0, 75129.0, 76077.0, 67231.0, 79658.0, 75816.0, 73528.0, 10000000, 71543.0, 69379.0, 78058.0, 76602.0, 81279.0, 74818.0, 82709.0, 73832.0, 83733.0, 76447.0, 76447.0, 80939.0, 77811.0, 76533.0, 82457.0, 76507.0, 85215.0, 86756.0, 79691.0, 81914.0, 82745.0, 85593.0, 71811.0, 69673.0, 76744.0, 81793.0, 70258.0, 67613.0, 75164.0, 84732.0, 71063.0, 73556.0, 70919.0, 74168.0, 78338.0, 73782.0, 88198.0, 75549.0, 78861.0, 76067.0, 67417.0, 70470.0, 76851.0, 68504.0, 74859.0, 74939.0, 92108.0, 81792.0, 78443.0, 68044.0, 71163.0, 72270.0, 76783.0, 75841.0, 84676.0, 71577.0, 71260.0, 74661.0, 85963.0, 72389.0, 82726.0, 69558.0, 77542.0, 71777.0, 81986.0, 70151.0, 85012.0, 78637.0, 77037.0, 74134.0, 89646.0, 70101.0, 73084.0, 69631.0, 79113.0, 74152.0, 67465.0, 75589.0, 74929.0, 82265.0, 67758.0, 79126.0, 71123.0, 67108.0, 79086.0, 75142.0, 76296.0, 66790.0, 75826.0, 67213.0, 74050.0, 76382.0, 81133.0, 79280.0, 74416.0, 86803.0, 67143.0, 73026.0, 74676.0, 86958.0, 69035.0, 79079.0, 72827.0, 85566.0, 66487.0, 81967.0, 75862.0, 76462.0, 70553.0, 86504.0, 75113.0, 69267.0, 70587.0, 69171.0, 73495.0, 72535.0, 85501.0, 72661.0, 75629.0, 71354.0, 74030.0, 71304.0, 76966.0, 79203.0, 77800.0, 72601.0, 79312.0, 82270.0, 80983.0, 86561.0, 82733.0, 76242.0, 88817.0, 69030.0, 53778.0, 80260.0, 67614.0, 73716.0, 85581.0, 75160.0, 84461.0, 75383.0, 72862.0, 71396.0, 80989.0, 69702.0, 74903.0, 69953.0, 89170.0, 76245.0, 77304.0, 74926.0, 68551.0, 77350.0, 82222.0, 70613.0, 75455.0, 74757.0, 82063.0, 64174.0, 80700.0, 73425.0, 83763.0, 73441.0, 68888.0, 72929.0, 69635.0, 76778.0, 78553.0, 77992.0, 89377.0, 81408.0, 76210.0, 92439.0, 65413.0, 76634.0, 78874.0, 71382.0, 63772.0, 69330.0, 83345.0, 78261.0, 65365.0, 84249.0, 76621.0, 62417.0, 89073.0, 78339.0, 72177.0, 78376.0, 80039.0, 78349.0, 68293.0, 81910.0, 75694.0, 83439.0, 79583.0, 64006.0, 75098.0, 83418.0, 75731.0, 72091.0, 79852.0, 69988.0, 65026.0, 63987.0, 59936.0, 65219.0, 88785.0, 76283.0, 63806.0, 72376.0, 69405.0, 70064.0, 73711.0, 75454.0, 77440.0, 81254.0, 71245.0, 67102.0, 76338.0, 64786.0, 74585.0, 71546.0, 76020.0, 77131.0, 77523.0, 72973.0, 86842.0, 81227.0, 67905.0, 79686.0, 65274.0, 73373.0, 70668.0, 69602.0, 74751.0, 67388.0, 68247.0, 76130.0, 71962.0, 72254.0, 72623.0, 64264.0, 73900.0, 87074.0, 72526.0, 72310.0, 72819.0, 69976.0, 72557.0, 75139.0, 79402.0, 72908.0, 77547.0, 80755.0, 77078.0, 69365.0, 85062.0, 71192.0, 67572.0, 82352.0, 82642.0, 79830.0, 73590.0, 88126.0, 72414.0, 74235.0, 67707.0, 74744.0, 66475.0, 75867.0, 83907.0, 78006.0, 79810.0, 64932.0, 72625.0, 81687.0, 67851.0, 73580.0, 68650.0, 76508.0, 65764.0, 70292.0, 80760.0, 70003.0, 72628.0, 75260.0, 64289.0, 79465.0, 71897.0, 72270.0, 72106.0, 79734.0, 78463.0, 69329.0, 73884.0, 74390.0, 70782.0, 69101.0, 82137.0, 68101.0, 74849.0, 87112.0, 76166.0, 83659.0, 77557.0, 72622.0, 77897.0, 74287.0, 78765.0, 85848.0, 86071.0, 72112.0, 77297.0, 76516.0, 82861.0, 66755.0, 79549.0, 69589.0, 81222.0, 68794.0, 66593.0, 74169.0, 86195.0, 82944.0, 70633.0, 64327.0, 71113.0, 85914.0, 76256.0, 67859.0, 75785.0, 76945.0, 80631.0, 71943.0, 88363.0, 76433.0, 60592.0, 76217.0, 75757.0, 85478.0, 72617.0, 73334.0, 80510.0, 74153.0, 72303.0, 76693.0, 86193.0, 64463.0, 71041.0, 82980.0, 85758.0, 77180.0, 74562.0, 70923.0, 75300.0, 71533.0, 73136.0, 79586.0, 83962.0, 76177.0, 72913.0, 81485.0, 69857.0, 73583.0, 71594.0, 83851.0, 89555.0, 82937.0, 82711.0, 69615.0, 78536.0, 76124.0, 76050.0, 75036.0, 73077.0, 77498.0, 82184.0, 70859.0, 81204.0, 73491.0, 83519.0, 74638.0, 70872.0, 78695.0, 81253.0, 80304.0, 81495.0, 77599.0, 78346.0, 70846.0, 82351.0, 74913.0, 63609.0, 79649.0, 67361.0, 76550.0, 70307.0, 71665.0, 71458.0, 74755.0, 70622.0, 79704.0, 73745.0, 74272.0, 79933.0, 76274.0, 74087.0, 70023.0, 95953.0, 71984.0, 78513.0, 70739.0, 79194.0, 72734.0, 79209.0, 72374.0, 69711.0, 81964.0, 73042.0, 77180.0, 69387.0, 72644.0, 67546.0, 74069.0, 77822.0, 72219.0, 84197.0, 78408.0, 85280.0, 71709.0, 71418.0, 73506.0, 82081.0, 76398.0, 64534.0, 88827.0, 76395.0, 85878.0, 77258.0, 68943.0, 72146.0, 79705.0, 65218.0, 65202.0, 85810.0, 73328.0, 69302.0, 73519.0, 81728.0, 78659.0, 72880.0, 81929.0, 64720.0, 74873.0, 65579.0, 73911.0, 79992.0, 64668.0, 74706.0, 74209.0, 72177.0, 80368.0, 79551.0, 78213.0, 76900.0, 65022.0, 82705.0, 77305.0, 70435.0, 78030.0, 75294.0, 78889.0, 69538.0, 75937.0, 69565.0, 71172.0, 78991.0, 73525.0, 86228.0, 80940.0, 81426.0, 64342.0, 78230.0, 72629.0, 79243.0, 82514.0, 69937.0, 80985.0, 75335.0, 78576.0, 78327.0, 67586.0, 82624.0, 68821.0, 69732.0, 71659.0, 87663.0, 80551.0, 71614.0, 80318.0, 80473.0, 69740.0, 77498.0, 73395.0, 90230.0, 81219.0, 70529.0, 81971.0, 79352.0, 80823.0, 64845.0, 64442.0, 79171.0, 74663.0, 85627.0, 79548.0, 75083.0, 74419.0, 66831.0, 69460.0, 78321.0, 68008.0, 65639.0, 64814.0, 72065.0, 83148.0, 64443.0, 89680.0, 71240.0, 77200.0, 64997.0, 74889.0, 75543.0, 67973.0, 72404.0, 84363.0, 83475.0, 82409.0, 69970.0, 71886.0, 77639.0, 83136.0, 71893.0, 76046.0, 73488.0, 69649.0, 81911.0, 78256.0, 69742.0, 75855.0, 87807.0, 70824.0, 82992.0, 71594.0, 77269.0, 69409.0, 69847.0, 79637.0, 73085.0, 86840.0, 81559.0, 86618.0, 73332.0, 73636.0, 64913.0, 72057.0, 76692.0, 81068.0, 77532.0, 75887.0, 81519.0, 72503.0, 68321.0, 70835.0, 70073.0, 79386.0, 74141.0, 74851.0, 84230.0, 77294.0, 89229.0, 75956.0, 71914.0, 78191.0, 70746.0, 80756.0, 81222.0, 80389.0, 70550.0, 72673.0, 74919.0, 89466.0, 69126.0, 86943.0, 75157.0, 80873.0, 74543.0, 72233.0, 76959.0, 81415.0, 79759.0, 71296.0, 81483.0, 75060.0, 70892.0, 75659.0, 66941.0, 72479.0, 67114.0, 76768.0, 60284.0, 72907.0, 87448.0, 71845.0, 81974.0, 74757.0, 70874.0, 76627.0, 76570.0, 85413.0, 82431.0, 64538.0, 77344.0, 71292.0, 73742.0, 76630.0, 78331.0, 80916.0, 76567.0, 78006.0, 75296.0, 71821.0, 78683.0, 78735.0, 79249.0, 77372.0, 67983.0, 82549.0, 80487.0, 66046.0, 72047.0, 73894.0, 80296.0, 68393.0, 73572.0, 77425.0, 68565.0, 66937.0, 80478.0, 79778.0, 73301.0, 86452.0, 73922.0, 70755.0, 78897.0, 74902.0, 75479.0, 75635.0, 78589.0, 67129.0, 75155.0, 73566.0, 67945.0, 71089.0, 73976.0, 77509.0, 76344.0, 77552.0, 71751.0, 80899.0, 71173.0, 83193.0, 61742.0, 67816.0, 67348.0, 69221.0, 63721.0, 76281.0, 78658.0, 81184.0, 69939.0, 78038.0, 74924.0, 69435.0, 79093.0, 68122.0, 73438.0, 79150.0, 90229.0, 79479.0, 65330.0, 82621.0, 78807.0, 75138.0, 66633.0, 83775.0, 73555.0, 64711.0, 72620.0, 72913.0, 71530.0, 74196.0, 69962.0, 80327.0, 79008.0, 84757.0, 82929.0, 68651.0, 76391.0, 72826.0, 76514.0, 81740.0, 68953.0, 68011.0, 73512.0, 73550.0, 79649.0, 73485.0, 78455.0, 73304.0, 76869.0, 68581.0, 68541.0, 68431.0, 80321.0, 78130.0, 76195.0, 75374.0, 68194.0, 79916.0, 76306.0, 78209.0, 79930.0, 75912.0, 76543.0, 72692.0, 82416.0, 64094.0, 70915.0, 65922.0, 75165.0, 79784.0, 76999.0, 69564.0, 78570.0, 77233.0, 68902.0, 64910.0, 77951.0, 79749.0, 67573.0, 82080.0, 92282.0, 77412.0, 74186.0, 78109.0, 78228.0, 81623.0, 82009.0, 78284.0, 81645.0, 67789.0, 74549.0, 73998.0, 73946.0, 70959.0, 81365.0, 75336.0, 66502.0, 70812.0, 74772.0, 73152.0, 71185.0, 74525.0, 74100.0, 73849.0, 74365.0, 69259.0, 78770.0, 74933.0, 73904.0, 68815.0, 80065.0, 77415.0, 63335.0, 68036.0, 70325.0, 87882.0, 65754.0, 80973.0, 72564.0, 74025.0, 69318.0, 69995.0, 82374.0, 67702.0, 80808.0, 74472.0, 65677.0, 67830.0, 77562.0, 64979.0, 70278.0, 64430.0, 71871.0, 75362.0, 71926.0, 74305.0, 70824.0, 73308.0, 77328.0, 81355.0, 76769.0, 74691.0, 71848.0, 71361.0, 81661.0, 72557.0, 75939.0, 77497.0, 67971.0, 72121.0, 77711.0, 76352.0, 65831.0, 64455.0, 81389.0, 82446.0, 81465.0, 80906.0, 72919.0, 68693.0, 82497.0, 68309.0, 70176.0, 70982.0, 80153.0, 82648.0, 90650.0, 78296.0, 81301.0, 63582.0, 75003.0, 76669.0, 80538.0, 77311.0, 88085.0, 74482.0, 73065.0, 85839.0, 83605.0, 68788.0, 70685.0, 81044.0, 85453.0, 79232.0, 77825.0, 75361.0, 71856.0, 66072.0, 66231.0, 68613.0, 76750.0, 83008.0, 77011.0, 69719.0, 66374.0, 64306.0, 78651.0, 69791.0, 69593.0, 82329.0, 92774.0, 82215.0, 67301.0, 70376.0, 77898.0, 72030.0, 74836.0, 68008.0, 79670.0, 75334.0, 81863.0, 77365.0, 77163.0, 73822.0, 80622.0, 79045.0, 70259.0, 73136.0, 68035.0, 78862.0, 76537.0, 81463.0, 78577.0, 63135.0, 75611.0, 75657.0, 72093.0, 74124.0, 75261.0, 78020.0, 79682.0, 80267.0, 86168.0, 77524.0, 76063.0, 75279.0, 75978.0, 66869.0, 76151.0, 66869.0, 70501.0, 72417.0, 67859.0, 74937.0, 72206.0, 73424.0, 74128.0, 72756.0, 71489.0, 78973.0, 76762.0, 77673.0, 71731.0, 77874.0, 78097.0, 76625.0, 76463.0, 72855.0, 85622.0, 89060.0, 87961.0, 70175.0, 71349.0, 80971.0, 76608.0, 83047.0, 70151.0, 66195.0, 74254.0, 87607.0, 84677.0, 80534.0, 82370.0, 70589.0, 72042.0, 80138.0, 75447.0, 73811.0, 83962.0, 77740.0 ] \n",
        "\n"
      ],
      "execution_count": 0,
      "outputs": []
    },
    {
      "metadata": {
        "id": "ZWl8k843n-21",
        "colab_type": "code",
        "colab": {}
      },
      "cell_type": "code",
      "source": [
        "# Stretch: Use the code below to plot a baseline distribution.\n",
        "\n",
        "import seaborn as sns\n",
        "import matplotlib as plt\n",
        "%matplotlib inline\n",
        "\n",
        "sns.distplot(salaries, kde=False);\n"
      ],
      "execution_count": 0,
      "outputs": []
    },
    {
      "metadata": {
        "id": "FHdI0f27qHS1",
        "colab_type": "code",
        "colab": {}
      },
      "cell_type": "code",
      "source": [
        "# Stretch: Drop the outliers and run the plot again.\n",
        "\n",
        "sns.distplot(salaries, kde=False);\n"
      ],
      "execution_count": 0,
      "outputs": []
    },
    {
      "metadata": {
        "id": "CN1-ehJksNrW",
        "colab_type": "text"
      },
      "cell_type": "markdown",
      "source": [
        "## Introduction to Series and DataFrames\n",
        "\n"
      ]
    },
    {
      "metadata": {
        "id": "c-DHQ-P2kpbV",
        "colab_type": "text"
      },
      "cell_type": "markdown",
      "source": [
        "\n",
        "Pandas is the preferred data manipulation library in Python. Python contains other methods for data wrangling, but the Pandas library wraps up this functionality into one or two lines instead of 10-20 lines. Pandas is the gateway library for the powerful data visualization libraries out there, including Seaborn and Matplotlib. \n",
        "\n",
        "Imported libraries will use different types of objects to suit their purposes. We'll be introduced to two new types of objects (data types) including the Pandas DataFrame and the Series. \n",
        "\n",
        "To start, we're going to work with Series data. A Series is similar to The DataFrame is a two-dimensional data type, similar to a SQL table or a sheet in Google Sheets/Excel. There are columns, rows, and column headers.  A Series is a single-dimensional data type, similar to a list. Think of this as a list that allows key-indexing.\n",
        "\n",
        "<a href=\"https://pandas.pydata.org/pandas-docs/stable/comparison_with_sql.html\">Pandas Documentation: Python vs. SQL</a>\n",
        "\n"
      ]
    },
    {
      "metadata": {
        "id": "4qS3rlaFm5rO",
        "colab_type": "code",
        "colab": {}
      },
      "cell_type": "code",
      "source": [
        "# Example: Create new Series\n",
        "# Pandas generates an index automatically.\n",
        "\n",
        "column_1 = pd.Series([194, 239, 193, 463, 57])\n",
        "\n",
        "print ('Print the whole Series:\\n', column_1)\n"
      ],
      "execution_count": 0,
      "outputs": []
    },
    {
      "metadata": {
        "id": "KnjylklsnnNW",
        "colab_type": "code",
        "colab": {}
      },
      "cell_type": "code",
      "source": [
        "# Example: Create new Series\n",
        "# We can create an index.\n",
        "\n",
        "import pandas as pd\n",
        "\n",
        "column_1 = pd.Series([194, 239, 193, 463, 57], index=['A', 'B', 'C', 'D', 'E'])\n",
        "\n",
        "print 'Print the whole Series:\\n', column_1\n",
        "\n",
        "print ('Index A gives us the following value', column_1['A'])\n"
      ],
      "execution_count": 0,
      "outputs": []
    },
    {
      "metadata": {
        "id": "noYuk1mlmjcN",
        "colab_type": "code",
        "colab": {}
      },
      "cell_type": "code",
      "source": [
        "# EXAMPLE: CREATE A NEW DATA FRAME\n",
        "\n",
        "# 1. Import the Pandas library.\n",
        "# 2. Fill a list with the names of your headers: Col1, Col2.\n",
        "# 3. Create a new DataFrame: df.\n",
        "# 4. Assign the list to the column headers in your DataFrame.\n",
        "# 5. Assign the values 1 through 5 to the first column.\n",
        "# 6. Check the contents of the DataFrame.\n",
        "#   - What is the shape?\n",
        "#   - What are the data types?\n",
        "#   - What are the first few rows?\n",
        "\n",
        "import pandas as pd\n",
        "\n",
        "column_names =  ['Col1', 'Col2' ]\n",
        "df  = pd.DataFrame(columns = column_names)\n",
        "print (df)\n",
        "df['Col1'] = [1, 2, 3, 4, 5]\n",
        "print (df)\n",
        "\n",
        "# EXERCISE: EXPLAIN THE CODE.\n",
        "\n",
        "# 1. Add inline comments to the code above, explaining each step in your own words.\n"
      ],
      "execution_count": 0,
      "outputs": []
    },
    {
      "metadata": {
        "id": "qJSm7voEmbY0",
        "colab_type": "code",
        "colab": {}
      },
      "cell_type": "code",
      "source": [
        "# EXERCISE: \n",
        "# 1. Create a new Series, Col3.\n",
        "# 2. Assign the values 6 to 10 to Col3.\n",
        "# 3. Add Col3 to the DataFrame.\n",
        "# 4. Check the contents of the DataFrame.\n",
        "#   - What is the shape?\n",
        "#   - What are the data types?\n",
        "#   - What are the first few rows?\n"
      ],
      "execution_count": 0,
      "outputs": []
    },
    {
      "metadata": {
        "id": "ur515wLttmf8",
        "colab_type": "code",
        "colab": {}
      },
      "cell_type": "code",
      "source": [
        "# Example: Create a Series from a list. \n",
        "\n",
        "import pandas as pd\n",
        "\n",
        "clean_salaries = [ 69686.0, 82878.0, 77880.0, 77485.0, 80759.0, 72786.0, 75571.0, 70335.0, 85397.0, 69459.0, 89523.0, 78793.0, 70442.0, 74371.0, 77156.0, 66684.0, 85132.0, 76725.0, 69428.0, 74112.0, 73782.0, 84314.0, 67411.0, 70474.0, 90326.0, 82530.0, 82571.0, 77894.0, 78238.0, 79540.0, 77743.0, 82194.0, 76006.0, 83241.0, 80712.0, 75727.0, 80109.0, 75651.0, 75435.0, 79380.0, 75129.0, 76077.0, 67231.0, 79658.0, 75816.0, 73528.0, 10000000, 71543.0, 69379.0, 78058.0, 76602.0, 81279.0, 74818.0, 82709.0, 73832.0, 83733.0, 76447.0, 76447.0, 80939.0, 77811.0, 76533.0, 82457.0, 76507.0, 85215.0, 86756.0, 79691.0, 81914.0, 82745.0, 85593.0, 71811.0, 69673.0, 76744.0, 81793.0, 70258.0, 67613.0, 75164.0, 84732.0, 71063.0, 73556.0, 70919.0, 74168.0, 78338.0, 73782.0, 88198.0, 75549.0, 78861.0, 76067.0, 67417.0, 70470.0, 76851.0, 68504.0, 74859.0, 74939.0, 92108.0, 81792.0, 78443.0, 68044.0, 71163.0, 72270.0, 76783.0, 75841.0, 84676.0, 71577.0, 71260.0, 74661.0, 85963.0, 72389.0, 82726.0, 69558.0, 77542.0, 71777.0, 81986.0, 70151.0, 85012.0, 78637.0, 77037.0, 74134.0, 89646.0, 70101.0, 73084.0, 69631.0, 79113.0, 74152.0, 67465.0, 75589.0, 74929.0, 82265.0, 67758.0, 79126.0, 71123.0, 67108.0, 79086.0, 75142.0, 76296.0, 66790.0, 75826.0, 67213.0, 74050.0, 76382.0, 81133.0, 79280.0, 74416.0, 86803.0, 67143.0, 73026.0, 74676.0, 86958.0, 69035.0, 79079.0, 72827.0, 85566.0, 66487.0, 81967.0, 75862.0, 76462.0, 70553.0, 86504.0, 75113.0, 69267.0, 70587.0, 69171.0, 73495.0, 72535.0, 85501.0, 72661.0, 75629.0, 71354.0, 74030.0, 71304.0, 76966.0, 79203.0, 77800.0, 72601.0, 79312.0, 82270.0, 80983.0, 86561.0, 82733.0, 76242.0, 88817.0, 69030.0, 53778.0, 80260.0, 67614.0, 73716.0, 85581.0, 75160.0, 84461.0, 75383.0, 72862.0, 71396.0, 80989.0, 69702.0, 74903.0, 69953.0, 89170.0, 76245.0, 77304.0, 74926.0, 68551.0, 77350.0, 82222.0, 70613.0, 75455.0, 74757.0, 82063.0, 64174.0, 80700.0, 73425.0, 83763.0, 73441.0, 68888.0, 72929.0, 69635.0, 76778.0, 78553.0, 77992.0, 89377.0, 81408.0, 76210.0, 92439.0, 65413.0, 76634.0, 78874.0, 71382.0, 63772.0, 69330.0, 83345.0, 78261.0, 65365.0, 84249.0, 76621.0, 62417.0, 89073.0, 78339.0, 72177.0, 78376.0, 80039.0, 78349.0, 68293.0, 81910.0, 75694.0, 83439.0, 79583.0, 64006.0, 75098.0, 83418.0, 75731.0, 72091.0, 79852.0, 69988.0, 65026.0, 63987.0, 59936.0, 65219.0, 88785.0, 76283.0, 63806.0, 72376.0, 69405.0, 70064.0, 73711.0, 75454.0, 77440.0, 81254.0, 71245.0, 67102.0, 76338.0, 64786.0, 74585.0, 71546.0, 76020.0, 77131.0, 77523.0, 72973.0, 86842.0, 81227.0, 67905.0, 79686.0, 65274.0, 73373.0, 70668.0, 69602.0, 74751.0, 67388.0, 68247.0, 76130.0, 71962.0, 72254.0, 72623.0, 64264.0, 73900.0, 87074.0, 72526.0, 72310.0, 72819.0, 69976.0, 72557.0, 75139.0, 79402.0, 72908.0, 77547.0, 80755.0, 77078.0, 69365.0, 85062.0, 71192.0, 67572.0, 82352.0, 82642.0, 79830.0, 73590.0, 88126.0, 72414.0, 74235.0, 67707.0, 74744.0, 66475.0, 75867.0, 83907.0, 78006.0, 79810.0, 64932.0, 72625.0, 81687.0, 67851.0, 73580.0, 68650.0, 76508.0, 65764.0, 70292.0, 80760.0, 70003.0, 72628.0, 75260.0, 64289.0, 79465.0, 71897.0, 72270.0, 72106.0, 79734.0, 78463.0, 69329.0, 73884.0, 74390.0, 70782.0, 69101.0, 82137.0, 68101.0, 74849.0, 87112.0, 76166.0, 83659.0, 77557.0, 72622.0, 77897.0, 74287.0, 78765.0, 85848.0, 86071.0, 72112.0, 77297.0, 76516.0, 82861.0, 66755.0, 79549.0, 69589.0, 81222.0, 68794.0, 66593.0, 74169.0, 86195.0, 82944.0, 70633.0, 64327.0, 71113.0, 85914.0, 76256.0, 67859.0, 75785.0, 76945.0, 80631.0, 71943.0, 88363.0, 76433.0, 60592.0, 76217.0, 75757.0, 85478.0, 72617.0, 73334.0, 80510.0, 74153.0, 72303.0, 76693.0, 86193.0, 64463.0, 71041.0, 82980.0, 85758.0, 77180.0, 74562.0, 70923.0, 75300.0, 71533.0, 73136.0, 79586.0, 83962.0, 76177.0, 72913.0, 81485.0, 69857.0, 73583.0, 71594.0, 83851.0, 89555.0, 82937.0, 82711.0, 69615.0, 78536.0, 76124.0, 76050.0, 75036.0, 73077.0, 77498.0, 82184.0, 70859.0, 81204.0, 73491.0, 83519.0, 74638.0, 70872.0, 78695.0, 81253.0, 80304.0, 81495.0, 77599.0, 78346.0, 70846.0, 82351.0, 74913.0, 63609.0, 79649.0, 67361.0, 76550.0, 70307.0, 71665.0, 71458.0, 74755.0, 70622.0, 79704.0, 73745.0, 74272.0, 79933.0, 76274.0, 74087.0, 70023.0, 95953.0, 71984.0, 78513.0, 70739.0, 79194.0, 72734.0, 79209.0, 72374.0, 69711.0, 81964.0, 73042.0, 77180.0, 69387.0, 72644.0, 67546.0, 74069.0, 77822.0, 72219.0, 84197.0, 78408.0, 85280.0, 71709.0, 71418.0, 73506.0, 82081.0, 76398.0, 64534.0, 88827.0, 76395.0, 85878.0, 77258.0, 68943.0, 72146.0, 79705.0, 65218.0, 65202.0, 85810.0, 73328.0, 69302.0, 73519.0, 81728.0, 78659.0, 72880.0, 81929.0, 64720.0, 74873.0, 65579.0, 73911.0, 79992.0, 64668.0, 74706.0, 74209.0, 72177.0, 80368.0, 79551.0, 78213.0, 76900.0, 65022.0, 82705.0, 77305.0, 70435.0, 78030.0, 75294.0, 78889.0, 69538.0, 75937.0, 69565.0, 71172.0, 78991.0, 73525.0, 86228.0, 80940.0, 81426.0, 64342.0, 78230.0, 72629.0, 79243.0, 82514.0, 69937.0, 80985.0, 75335.0, 78576.0, 78327.0, 67586.0, 82624.0, 68821.0, 69732.0, 71659.0, 87663.0, 80551.0, 71614.0, 80318.0, 80473.0, 69740.0, 77498.0, 73395.0, 90230.0, 81219.0, 70529.0, 81971.0, 79352.0, 80823.0, 64845.0, 64442.0, 79171.0, 74663.0, 85627.0, 79548.0, 75083.0, 74419.0, 66831.0, 69460.0, 78321.0, 68008.0, 65639.0, 64814.0, 72065.0, 83148.0, 64443.0, 89680.0, 71240.0, 77200.0, 64997.0, 74889.0, 75543.0, 67973.0, 72404.0, 84363.0, 83475.0, 82409.0, 69970.0, 71886.0, 77639.0, 83136.0, 71893.0, 76046.0, 73488.0, 69649.0, 81911.0, 78256.0, 69742.0, 75855.0, 87807.0, 70824.0, 82992.0, 71594.0, 77269.0, 69409.0, 69847.0, 79637.0, 73085.0, 86840.0, 81559.0, 86618.0, 73332.0, 73636.0, 64913.0, 72057.0, 76692.0, 81068.0, 77532.0, 75887.0, 81519.0, 72503.0, 68321.0, 70835.0, 70073.0, 79386.0, 74141.0, 74851.0, 84230.0, 77294.0, 89229.0, 75956.0, 71914.0, 78191.0, 70746.0, 80756.0, 81222.0, 80389.0, 70550.0, 72673.0, 74919.0, 89466.0, 69126.0, 86943.0, 75157.0, 80873.0, 74543.0, 72233.0, 76959.0, 81415.0, 79759.0, 71296.0, 81483.0, 75060.0, 70892.0, 75659.0, 66941.0, 72479.0, 67114.0, 76768.0, 60284.0, 72907.0, 87448.0, 71845.0, 81974.0, 74757.0, 70874.0, 76627.0, 76570.0, 85413.0, 82431.0, 64538.0, 77344.0, 71292.0, 73742.0, 76630.0, 78331.0, 80916.0, 76567.0, 78006.0, 75296.0, 71821.0, 78683.0, 78735.0, 79249.0, 77372.0, 67983.0, 82549.0, 80487.0, 66046.0, 72047.0, 73894.0, 80296.0, 68393.0, 73572.0, 77425.0, 68565.0, 66937.0, 80478.0, 79778.0, 73301.0, 86452.0, 73922.0, 70755.0, 78897.0, 74902.0, 75479.0, 75635.0, 78589.0, 67129.0, 75155.0, 73566.0, 67945.0, 71089.0, 73976.0, 77509.0, 76344.0, 77552.0, 71751.0, 80899.0, 71173.0, 83193.0, 61742.0, 67816.0, 67348.0, 69221.0, 63721.0, 76281.0, 78658.0, 81184.0, 69939.0, 78038.0, 74924.0, 69435.0, 79093.0, 68122.0, 73438.0, 79150.0, 90229.0, 79479.0, 65330.0, 82621.0, 78807.0, 75138.0, 66633.0, 83775.0, 73555.0, 64711.0, 72620.0, 72913.0, 71530.0, 74196.0, 69962.0, 80327.0, 79008.0, 84757.0, 82929.0, 68651.0, 76391.0, 72826.0, 76514.0, 81740.0, 68953.0, 68011.0, 73512.0, 73550.0, 79649.0, 73485.0, 78455.0, 73304.0, 76869.0, 68581.0, 68541.0, 68431.0, 80321.0, 78130.0, 76195.0, 75374.0, 68194.0, 79916.0, 76306.0, 78209.0, 79930.0, 75912.0, 76543.0, 72692.0, 82416.0, 64094.0, 70915.0, 65922.0, 75165.0, 79784.0, 76999.0, 69564.0, 78570.0, 77233.0, 68902.0, 64910.0, 77951.0, 79749.0, 67573.0, 82080.0, 92282.0, 77412.0, 74186.0, 78109.0, 78228.0, 81623.0, 82009.0, 78284.0, 81645.0, 67789.0, 74549.0, 73998.0, 73946.0, 70959.0, 81365.0, 75336.0, 66502.0, 70812.0, 74772.0, 73152.0, 71185.0, 74525.0, 74100.0, 73849.0, 74365.0, 69259.0, 78770.0, 74933.0, 73904.0, 68815.0, 80065.0, 77415.0, 63335.0, 68036.0, 70325.0, 87882.0, 65754.0, 80973.0, 72564.0, 74025.0, 69318.0, 69995.0, 82374.0, 67702.0, 80808.0, 74472.0, 65677.0, 67830.0, 77562.0, 64979.0, 70278.0, 64430.0, 71871.0, 75362.0, 71926.0, 74305.0, 70824.0, 73308.0, 77328.0, 81355.0, 76769.0, 74691.0, 71848.0, 71361.0, 81661.0, 72557.0, 75939.0, 77497.0, 67971.0, 72121.0, 77711.0, 76352.0, 65831.0, 64455.0, 81389.0, 82446.0, 81465.0, 80906.0, 72919.0, 68693.0, 82497.0, 68309.0, 70176.0, 70982.0, 80153.0, 82648.0, 90650.0, 78296.0, 81301.0, 63582.0, 75003.0, 76669.0, 80538.0, 77311.0, 88085.0, 74482.0, 73065.0, 85839.0, 83605.0, 68788.0, 70685.0, 81044.0, 85453.0, 79232.0, 77825.0, 75361.0, 71856.0, 66072.0, 66231.0, 68613.0, 76750.0, 83008.0, 77011.0, 69719.0, 66374.0, 64306.0, 78651.0, 69791.0, 69593.0, 82329.0, 92774.0, 82215.0, 67301.0, 70376.0, 77898.0, 72030.0, 74836.0, 68008.0, 79670.0, 75334.0, 81863.0, 77365.0, 77163.0, 73822.0, 80622.0, 79045.0, 70259.0, 73136.0, 68035.0, 78862.0, 76537.0, 81463.0, 78577.0, 63135.0, 75611.0, 75657.0, 72093.0, 74124.0, 75261.0, 78020.0, 79682.0, 80267.0, 86168.0, 77524.0, 76063.0, 75279.0, 75978.0, 66869.0, 76151.0, 66869.0, 70501.0, 72417.0, 67859.0, 74937.0, 72206.0, 73424.0, 74128.0, 72756.0, 71489.0, 78973.0, 76762.0, 77673.0, 71731.0, 77874.0, 78097.0, 76625.0, 76463.0, 72855.0, 85622.0, 89060.0, 87961.0, 70175.0, 71349.0, 80971.0, 76608.0, 83047.0, 70151.0, 66195.0, 74254.0, 87607.0, 84677.0, 80534.0, 82370.0, 70589.0, 72042.0, 80138.0, 75447.0, 73811.0, 83962.0, 77740.0 ] \n",
        "\n",
        "salaries_series = pd.Series(clean_salaries)\n",
        "\n",
        "#print (salaries_series)\n",
        "\n",
        "salaries_series.describe()\n",
        "\n",
        "# Notice how a series has an index automatically generated. "
      ],
      "execution_count": 0,
      "outputs": []
    },
    {
      "metadata": {
        "id": "zgdpV7wEovCP",
        "colab_type": "text"
      },
      "cell_type": "markdown",
      "source": [
        "## Assignment: Analyze Salary Data"
      ]
    },
    {
      "metadata": {
        "id": "oLy51bbr1FBj",
        "colab_type": "code",
        "colab": {}
      },
      "cell_type": "code",
      "source": [
        "# Like a list, a series is a one-dimensional array capable of holding multiple\n",
        "# data types, including floats, integers, etc.  A Series contains many built-in\n",
        "# functions to facilitate univariate (single-dimension) analysis and plotting.\n",
        "\n",
        "# Try the functions below.\n",
        "\n",
        "# Example: Boxplot\n",
        "import pandas as pd\n",
        "import matplotlib as plt\n",
        "%matplotlib inline\n",
        "\n",
        "da_salaries = [ 69686.0, 82878.0, 77880.0, 77485.0, 80759.0, 72786.0, 75571.0, 70335.0, 85397.0, 69459.0, 89523.0, 78793.0, 70442.0, 74371.0, 77156.0, 66684.0, 85132.0, 76725.0, 69428.0, 74112.0, 73782.0, 84314.0, 67411.0, 70474.0, 90326.0, 82530.0, 82571.0, 77894.0, 78238.0, 79540.0, 77743.0, 82194.0, 76006.0, 83241.0, 80712.0, 75727.0, 80109.0, 75651.0, 75435.0, 79380.0, 75129.0, 76077.0, 67231.0, 79658.0, 75816.0, 73528.0, 71543.0, 69379.0, 78058.0, 76602.0, 81279.0, 74818.0, 82709.0, 73832.0, 83733.0, 76447.0, 76447.0, 80939.0, 77811.0, 76533.0, 82457.0, 76507.0, 85215.0, 86756.0, 79691.0, 81914.0, 82745.0, 85593.0, 71811.0, 69673.0, 76744.0, 81793.0, 70258.0, 67613.0, 75164.0, 84732.0, 71063.0, 73556.0, 70919.0, 74168.0, 78338.0, 73782.0, 88198.0, 75549.0, 78861.0, 76067.0, 67417.0, 70470.0, 76851.0, 68504.0, 74859.0, 74939.0, 92108.0, 81792.0, 78443.0, 68044.0, 71163.0, 72270.0, 76783.0, 75841.0, 84676.0, 71577.0, 71260.0, 74661.0, 85963.0, 72389.0, 82726.0, 69558.0, 77542.0, 71777.0, 81986.0, 70151.0, 85012.0, 78637.0, 77037.0, 74134.0, 89646.0, 70101.0, 73084.0, 69631.0, 79113.0, 74152.0, 67465.0, 75589.0, 74929.0, 82265.0, 67758.0, 79126.0, 71123.0, 67108.0, 79086.0, 75142.0, 76296.0, 66790.0, 75826.0, 67213.0, 74050.0, 76382.0, 81133.0, 79280.0, 74416.0, 86803.0, 67143.0, 73026.0, 74676.0, 86958.0, 69035.0, 79079.0, 72827.0, 85566.0, 66487.0, 81967.0, 75862.0, 76462.0, 70553.0, 86504.0, 75113.0, 69267.0, 70587.0, 69171.0, 73495.0, 72535.0, 85501.0, 72661.0, 75629.0, 71354.0, 74030.0, 71304.0, 76966.0, 79203.0, 77800.0, 72601.0, 79312.0, 82270.0, 80983.0, 86561.0, 82733.0, 76242.0, 88817.0, 69030.0, 53778.0, 80260.0, 67614.0, 73716.0, 85581.0, 75160.0, 84461.0, 75383.0, 72862.0, 71396.0, 80989.0, 69702.0, 74903.0, 69953.0, 89170.0, 76245.0, 77304.0, 74926.0, 68551.0, 77350.0, 82222.0, 70613.0, 75455.0, 74757.0, 82063.0, 64174.0, 80700.0, 73425.0, 83763.0, 73441.0, 68888.0, 72929.0, 69635.0, 76778.0, 78553.0, 77992.0, 89377.0, 81408.0, 76210.0, 92439.0, 65413.0, 76634.0, 78874.0, 71382.0, 63772.0, 69330.0, 83345.0, 78261.0, 65365.0, 84249.0, 76621.0, 62417.0, 89073.0, 78339.0, 72177.0, 78376.0, 80039.0, 78349.0, 68293.0, 81910.0, 75694.0, 83439.0, 79583.0, 64006.0, 75098.0, 83418.0, 75731.0, 72091.0, 79852.0, 69988.0, 65026.0, 63987.0, 59936.0, 65219.0, 88785.0, 76283.0, 63806.0, 72376.0, 69405.0, 70064.0, 73711.0, 75454.0, 77440.0, 81254.0, 71245.0, 67102.0, 76338.0, 64786.0, 74585.0, 71546.0, 76020.0, 77131.0, 77523.0, 72973.0, 86842.0, 81227.0, 67905.0, 79686.0, 65274.0, 73373.0, 70668.0, 69602.0, 74751.0, 67388.0, 68247.0, 76130.0, 71962.0, 72254.0, 72623.0, 64264.0, 73900.0, 87074.0, 72526.0, 72310.0, 72819.0, 69976.0, 72557.0, 75139.0, 79402.0, 72908.0, 77547.0, 80755.0, 77078.0, 69365.0, 85062.0, 71192.0, 67572.0, 82352.0, 82642.0, 79830.0, 73590.0, 88126.0, 72414.0, 74235.0, 67707.0, 74744.0, 66475.0, 75867.0, 83907.0, 78006.0, 79810.0, 64932.0, 72625.0, 81687.0, 67851.0, 73580.0, 68650.0, 76508.0, 65764.0, 70292.0, 80760.0, 70003.0, 72628.0, 75260.0, 64289.0, 79465.0, 71897.0, 72270.0, 72106.0, 79734.0, 78463.0, 69329.0, 73884.0, 74390.0, 70782.0, 69101.0, 82137.0, 68101.0, 74849.0, 87112.0, 76166.0, 83659.0, 77557.0, 72622.0, 77897.0, 74287.0, 78765.0, 85848.0, 86071.0, 72112.0, 77297.0, 76516.0, 82861.0, 66755.0, 79549.0, 69589.0, 81222.0, 68794.0, 66593.0, 74169.0, 86195.0, 82944.0, 70633.0, 64327.0, 71113.0, 85914.0, 76256.0, 67859.0, 75785.0, 76945.0, 80631.0, 71943.0, 88363.0, 76433.0, 60592.0, 76217.0, 75757.0, 85478.0, 72617.0, 73334.0, 80510.0, 74153.0, 72303.0, 76693.0, 86193.0, 64463.0, 71041.0, 82980.0, 85758.0, 77180.0, 74562.0, 70923.0, 75300.0, 71533.0, 73136.0, 79586.0, 83962.0, 76177.0, 72913.0, 81485.0, 69857.0, 73583.0, 71594.0, 83851.0, 89555.0, 82937.0, 82711.0, 69615.0, 78536.0, 76124.0, 76050.0, 75036.0, 73077.0, 77498.0, 82184.0, 70859.0, 81204.0, 73491.0, 83519.0, 74638.0, 70872.0, 78695.0, 81253.0, 80304.0, 81495.0, 77599.0, 78346.0, 70846.0, 82351.0, 74913.0, 63609.0, 79649.0, 67361.0, 76550.0, 70307.0, 71665.0, 71458.0, 74755.0, 70622.0, 79704.0, 73745.0, 74272.0, 79933.0, 76274.0, 74087.0, 70023.0, 95953.0, 71984.0, 78513.0, 70739.0, 79194.0, 72734.0, 79209.0, 72374.0, 69711.0, 81964.0, 73042.0, 77180.0, 69387.0, 72644.0, 67546.0, 74069.0, 77822.0, 72219.0, 84197.0, 78408.0, 85280.0, 71709.0, 71418.0, 73506.0, 82081.0, 76398.0, 64534.0, 88827.0, 76395.0, 85878.0, 77258.0, 68943.0, 72146.0, 79705.0, 65218.0, 65202.0, 85810.0, 73328.0, 69302.0, 73519.0, 81728.0, 78659.0, 72880.0, 81929.0, 64720.0, 74873.0, 65579.0, 73911.0, 79992.0, 64668.0, 74706.0, 74209.0, 72177.0, 80368.0, 79551.0, 78213.0, 76900.0, 65022.0, 82705.0, 77305.0, 70435.0, 78030.0, 75294.0, 78889.0, 69538.0, 75937.0, 69565.0, 71172.0, 78991.0, 73525.0, 86228.0, 80940.0, 81426.0, 64342.0, 78230.0, 72629.0, 79243.0, 82514.0, 69937.0, 80985.0, 75335.0, 78576.0, 78327.0, 67586.0, 82624.0, 68821.0, 69732.0, 71659.0, 87663.0, 80551.0, 71614.0, 80318.0, 80473.0, 69740.0, 77498.0, 73395.0, 90230.0, 81219.0, 70529.0, 81971.0, 79352.0, 80823.0, 64845.0, 64442.0, 79171.0, 74663.0, 85627.0, 79548.0, 75083.0, 74419.0, 66831.0, 69460.0, 78321.0, 68008.0, 65639.0, 64814.0, 72065.0, 83148.0, 64443.0, 89680.0, 71240.0, 77200.0, 64997.0, 74889.0, 75543.0, 67973.0, 72404.0, 84363.0, 83475.0, 82409.0, 69970.0, 71886.0, 77639.0, 83136.0, 71893.0, 76046.0, 73488.0, 69649.0, 81911.0, 78256.0, 69742.0, 75855.0, 87807.0, 70824.0, 82992.0, 71594.0, 77269.0, 69409.0, 69847.0, 79637.0, 73085.0, 86840.0, 81559.0, 86618.0, 73332.0, 73636.0, 64913.0, 72057.0, 76692.0, 81068.0, 77532.0, 75887.0, 81519.0, 72503.0, 68321.0, 70835.0, 70073.0, 79386.0, 74141.0, 74851.0, 84230.0, 77294.0, 89229.0, 75956.0, 71914.0, 78191.0, 70746.0, 80756.0, 81222.0, 80389.0, 70550.0, 72673.0, 74919.0, 89466.0, 69126.0, 86943.0, 75157.0, 80873.0, 74543.0, 72233.0, 76959.0, 81415.0, 79759.0, 71296.0, 81483.0, 75060.0, 70892.0, 75659.0, 66941.0, 72479.0, 67114.0, 76768.0, 60284.0, 72907.0, 87448.0, 71845.0, 81974.0, 74757.0, 70874.0, 76627.0, 76570.0, 85413.0, 82431.0, 64538.0, 77344.0, 71292.0, 73742.0, 76630.0, 78331.0, 80916.0, 76567.0, 78006.0, 75296.0, 71821.0, 78683.0, 78735.0, 79249.0, 77372.0, 67983.0, 82549.0, 80487.0, 66046.0, 72047.0, 73894.0, 80296.0, 68393.0, 73572.0, 77425.0, 68565.0, 66937.0, 80478.0, 79778.0, 73301.0, 86452.0, 73922.0, 70755.0, 78897.0, 74902.0, 75479.0, 75635.0, 78589.0, 67129.0, 75155.0, 73566.0, 67945.0, 71089.0, 73976.0, 77509.0, 76344.0, 77552.0, 71751.0, 80899.0, 71173.0, 83193.0, 61742.0, 67816.0, 67348.0, 69221.0, 63721.0, 76281.0, 78658.0, 81184.0, 69939.0, 78038.0, 74924.0, 69435.0, 79093.0, 68122.0, 73438.0, 79150.0, 90229.0, 79479.0, 65330.0, 82621.0, 78807.0, 75138.0, 66633.0, 83775.0, 73555.0, 64711.0, 72620.0, 72913.0, 71530.0, 74196.0, 69962.0, 80327.0, 79008.0, 84757.0, 82929.0, 68651.0, 76391.0, 72826.0, 76514.0, 81740.0, 68953.0, 68011.0, 73512.0, 73550.0, 79649.0, 73485.0, 78455.0, 73304.0, 76869.0, 68581.0, 68541.0, 68431.0, 80321.0, 78130.0, 76195.0, 75374.0, 68194.0, 79916.0, 76306.0, 78209.0, 79930.0, 75912.0, 76543.0, 72692.0, 82416.0, 64094.0, 70915.0, 65922.0, 75165.0, 79784.0, 76999.0, 69564.0, 78570.0, 77233.0, 68902.0, 64910.0, 77951.0, 79749.0, 67573.0, 82080.0, 92282.0, 77412.0, 74186.0, 78109.0, 78228.0, 81623.0, 82009.0, 78284.0, 81645.0, 67789.0, 74549.0, 73998.0, 73946.0, 70959.0, 81365.0, 75336.0, 66502.0, 70812.0, 74772.0, 73152.0, 71185.0, 74525.0, 74100.0, 73849.0, 74365.0, 69259.0, 78770.0, 74933.0, 73904.0, 68815.0, 80065.0, 77415.0, 63335.0, 68036.0, 70325.0, 87882.0, 65754.0, 80973.0, 72564.0, 74025.0, 69318.0, 69995.0, 82374.0, 67702.0, 80808.0, 74472.0, 65677.0, 67830.0, 77562.0, 64979.0, 70278.0, 64430.0, 71871.0, 75362.0, 71926.0, 74305.0, 70824.0, 73308.0, 77328.0, 81355.0, 76769.0, 74691.0, 71848.0, 71361.0, 81661.0, 72557.0, 75939.0, 77497.0, 67971.0, 72121.0, 77711.0, 76352.0, 65831.0, 64455.0, 81389.0, 82446.0, 81465.0, 80906.0, 72919.0, 68693.0, 82497.0, 68309.0, 70176.0, 70982.0, 80153.0, 82648.0, 90650.0, 78296.0, 81301.0, 63582.0, 75003.0, 76669.0, 80538.0, 77311.0, 88085.0, 74482.0, 73065.0, 85839.0, 83605.0, 68788.0, 70685.0, 81044.0, 85453.0, 79232.0, 77825.0, 75361.0, 71856.0, 66072.0, 66231.0, 68613.0, 76750.0, 83008.0, 77011.0, 69719.0, 66374.0, 64306.0, 78651.0, 69791.0, 69593.0, 82329.0, 92774.0, 82215.0, 67301.0, 70376.0, 77898.0, 72030.0, 74836.0, 68008.0, 79670.0, 75334.0, 81863.0, 77365.0, 77163.0, 73822.0, 80622.0, 79045.0, 70259.0, 73136.0, 68035.0, 78862.0, 76537.0, 81463.0, 78577.0, 63135.0, 75611.0, 75657.0, 72093.0, 74124.0, 75261.0, 78020.0, 79682.0, 80267.0, 86168.0, 77524.0, 76063.0, 75279.0, 75978.0, 66869.0, 76151.0, 66869.0, 70501.0, 72417.0, 67859.0, 74937.0, 72206.0, 73424.0, 74128.0, 72756.0, 71489.0, 78973.0, 76762.0, 77673.0, 71731.0, 77874.0, 78097.0, 76625.0, 76463.0, 72855.0, 85622.0, 89060.0, 87961.0, 70175.0, 71349.0, 80971.0, 76608.0, 83047.0, 70151.0, 66195.0, 74254.0, 87607.0, 84677.0, 80534.0, 82370.0, 70589.0, 72042.0, 80138.0, 75447.0, 73811.0, 83962.0, 77740.0 ] \n",
        "da_salaries_series = pd.Series(da_salaries)\n",
        "da_salaries_series.plot(kind='box', title='Data Analyst Salaries in $US',\n",
        "                        label='Data Analyst Salaries',\n",
        "                        ylim=[0, 100000]);\n",
        "\n"
      ],
      "execution_count": 0,
      "outputs": []
    },
    {
      "metadata": {
        "id": "s84HIma5a-9L",
        "colab_type": "code",
        "colab": {}
      },
      "cell_type": "code",
      "source": [
        "# Exercise: Build a barchart from Business Analyst salaries below.\n",
        "# Plot documentation can be found here: https://pandas.pydata.org/pandas-docs/stable/generated/pandas.Series.plot.html\n",
        "\n",
        "ba_salaries =  [ 85653.09090584, 52982.71147663, 68429.19098982, 73688.1302878, 27896.56601259, 103262.91171722, 79543.67473411, 98052.22008348, 72148.11357583, 75156.83665108, 82172.36655711, 54955.16286686, 44965.75389207, 53561.06945371, 54047.33419731, 75563.2249046, 85190.76746283, 89924.80101407, 70104.41778426, 65219.58746075, 79748.42865255, 81236.41632141, 38613.02470092, 74355.78356435, 71445.36906925, 38990.92965461, 96963.40021568, 58361.68707191, 107083.71762546, 53347.66032382, 63486.01987673, 64444.8915257, 134683.4380663,  68015.9627245,  94682.94763271, 50065.08582493, 72915.6795263,  43117.67904919, 53514.23073731, 62399.04540735, 71158.5254707, 110777.25428093, 125102.13586622, 39771.15153857, 111840.20757671, 45395.12820362, 89467.9945776,  50872.58762737, 60791.26426503, 44848.66122854, 112346.92828505, 75321.87471019, 77117.44355543, 83381.71438157, 118623.58326112, 47370.9571481, 59589.47488249, 35761.82204612, 86820.77302771, 87493.36041752, 76657.69522463, 83040.36479079, 91527.44462717, 109575.40714381, 113833.96346291, 73693.66919163, 39981.62946745, 82268.76384169, 71974.11595246, 67503.28916654, 80014.38678304, 35961.43778343, 67874.7277123,  73338.92589283, 17342.01077683, 60423.33615272, 56209.19412849, 90504.71764825, 126734.12335671, 100426.3439945, 78811.52782019, 40612.42100224, 67846.27935601, 66567.66366083, 98747.57549065, 100262.34593506, 67100.17976263, 14498.25143413, 91511.15879416, 35934.36122343, 35495.41608997, 75910.82658566, 60828.9783924,  70619.58787948, 45235.1903336,  97092.78794597, 82321.73087759, 53582.43245558, 43315.88034965, 93365.08159507]\n",
        "\n"
      ],
      "execution_count": 0,
      "outputs": []
    },
    {
      "metadata": {
        "id": "KHMgIbozeBqi",
        "colab_type": "code",
        "colab": {}
      },
      "cell_type": "code",
      "source": [
        "# Exercise: Build a boxplot plot from Data Scientist salaries below\n",
        "# Plot documentation can be found here: https://pandas.pydata.org/pandas-docs/stable/generated/pandas.Series.plot.html\n",
        "# Stretch: Use Seaborn. \n",
        "\n",
        "ds_salaries = [106601.97053139, 102963.51555575,  75770.48560733,  97967.05825681, 126620.60257956, 126331.40840869, 144127.53957038, 133251.22774521, 170486.11878414, 107723.05770924, 114753.75942069,  77305.25018563, 160636.21002759,  75144.31180059,  74604.25104265,  76130.02860739, 118954.06559832, 112664.75063848, 130903.41599858, 100920.6838579, 95229.25289895, 105935.31191643, 138672.29715271, 170315.79917773, 99458.22703028, 132294.19651253, 128688.37587368, 117473.38907981, 111227.24788125, 105247.43365046]\n",
        "\n",
        "\n"
      ],
      "execution_count": 0,
      "outputs": []
    },
    {
      "metadata": {
        "id": "xVqLioUWemSE",
        "colab_type": "code",
        "colab": {}
      },
      "cell_type": "code",
      "source": [
        "# Example: Combine the business analyst and data analyst into DataFrame.\n",
        "\n",
        "columns = [ 'Business Analyst', 'Data Analyst' ]\n",
        "df = pd.DataFrame(columns = columns)\n",
        "df['Business Analyst'] = ba_salaries[0:30]\n",
        "df['Data Analyst'] = da_salaries[0:30]\n",
        "\n",
        "df.describe(include='all')\n",
        "\n",
        "# Modify the code above to include data from data scientists.\n",
        "# How do the different salaries compare? \n",
        "\n",
        "\n"
      ],
      "execution_count": 0,
      "outputs": []
    },
    {
      "metadata": {
        "id": "QdJzBozid50a",
        "colab_type": "code",
        "colab": {}
      },
      "cell_type": "code",
      "source": [
        "# Exercise: Plot a boxplot from the DataFrame.\n",
        "# Does the visual agree with your conclusion drawn from the descriptive statistics?\n",
        "\n",
        "df.boxplot()"
      ],
      "execution_count": 0,
      "outputs": []
    },
    {
      "metadata": {
        "id": "b81S2e5ez6QW",
        "colab_type": "code",
        "colab": {}
      },
      "cell_type": "code",
      "source": [
        "# Optional Exercise: Memory Management in Python.\n",
        "\n",
        "# You can use specialized CoLab/notebook magic commands. These \n",
        "# are not python commands, but have special meaning that only work within\n",
        "# the CoLab or Jupyter environment. \n",
        "\n",
        "# Use the %whos magic command to see what variables are created and stored in\n",
        "# memory. It also includes the modules or libraries that have been imported.\n",
        "\n",
        "%whos"
      ],
      "execution_count": 0,
      "outputs": []
    }
  ]
}